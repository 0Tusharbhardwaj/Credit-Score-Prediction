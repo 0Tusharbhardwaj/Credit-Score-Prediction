{
  "nbformat": 4,
  "nbformat_minor": 0,
  "metadata": {
    "colab": {
      "provenance": []
    },
    "kernelspec": {
      "name": "python3",
      "display_name": "Python 3"
    },
    "language_info": {
      "name": "python"
    }
  },
  "cells": [
    {
      "cell_type": "code",
      "execution_count": 3,
      "metadata": {
        "colab": {
          "base_uri": "https://localhost:8080/"
        },
        "id": "3F4wFGLkhAtd",
        "outputId": "bb5e4d5c-6f83-4225-f408-6264a6ba6920"
      },
      "outputs": [
        {
          "output_type": "stream",
          "name": "stderr",
          "text": [
            "/usr/local/lib/python3.11/dist-packages/sklearn/utils/validation.py:2739: UserWarning: X does not have valid feature names, but StandardScaler was fitted with feature names\n",
            "  warnings.warn(\n"
          ]
        },
        {
          "output_type": "stream",
          "name": "stdout",
          "text": [
            "Model Evaluation:\n",
            "Mean Absolute Error (MAE): 265.03404961567776\n",
            "Mean Squared Error (MSE): 77039.28428102133\n",
            "R-Squared (R²) Score: -9.446447294345873\n",
            "Predicted Credit Score: 668.7539058509486\n",
            "Enter Age: 30\n",
            "Enter Income: 100000\n",
            "Enter Loan Amount: 60000\n",
            "Predicted Credit Score for user input: 707.5041054061771\n"
          ]
        },
        {
          "output_type": "stream",
          "name": "stderr",
          "text": [
            "/usr/local/lib/python3.11/dist-packages/sklearn/utils/validation.py:2739: UserWarning: X does not have valid feature names, but StandardScaler was fitted with feature names\n",
            "  warnings.warn(\n"
          ]
        }
      ],
      "source": [
        "import pandas as pd\n",
        "from sklearn.model_selection import train_test_split\n",
        "from sklearn.preprocessing import StandardScaler\n",
        "from sklearn.linear_model import LinearRegression\n",
        "from sklearn.metrics import mean_absolute_error, mean_squared_error, r2_score\n",
        "\n",
        "# Load dataset\n",
        "file_path = \"/content/credit_data.csv\"\n",
        "df = pd.read_csv(file_path)\n",
        "\n",
        "# Drop CustomerID (not needed for training)\n",
        "df = df.drop(columns=[\"CustomerID\"])\n",
        "\n",
        "# Define features (X) and target variable (y)\n",
        "X = df[['Age', 'Income', 'LoanAmount']]\n",
        "y = df['CreditScore']\n",
        "\n",
        "# Split data into training (80%) and testing (20%)\n",
        "X_train, X_test, y_train, y_test = train_test_split(X, y, test_size=0.2, random_state=42)\n",
        "\n",
        "# Feature Scaling\n",
        "scaler = StandardScaler()\n",
        "X_train_scaled = scaler.fit_transform(X_train)\n",
        "X_test_scaled = scaler.transform(X_test)\n",
        "\n",
        "# Train Linear Regression Model\n",
        "model = LinearRegression()\n",
        "model.fit(X_train_scaled, y_train)\n",
        "\n",
        "# Make Predictions\n",
        "y_pred = model.predict(X_test_scaled)\n",
        "\n",
        "# Evaluate Model\n",
        "mae = mean_absolute_error(y_test, y_pred)\n",
        "mse = mean_squared_error(y_test, y_pred)\n",
        "r2 = r2_score(y_test, y_pred)\n",
        "\n",
        "print(\"Model Evaluation:\")\n",
        "print(\"Mean Absolute Error (MAE):\", mae)\n",
        "print(\"Mean Squared Error (MSE):\", mse)\n",
        "print(\"R-Squared (R²) Score:\", r2)\n",
        "\n",
        "# Example Prediction\n",
        "new_data = [[30, 65000, 25000]]  # Age: 30, Income: 65K, Loan Amount: 25K\n",
        "new_data_scaled = scaler.transform(new_data)\n",
        "predicted_score = model.predict(new_data_scaled)\n",
        "print(\"Predicted Credit Score:\", predicted_score[0])\n",
        "\n",
        "# User Input Prediction\n",
        "age = int(input(\"Enter Age: \"))\n",
        "income = int(input(\"Enter Income: \"))\n",
        "loan_amount = int(input(\"Enter Loan Amount: \"))\n",
        "\n",
        "user_data = [[age, income, loan_amount]]\n",
        "user_data_scaled = scaler.transform(user_data)\n",
        "user_predicted_score = model.predict(user_data_scaled)\n",
        "print(\"Predicted Credit Score for user input:\", user_predicted_score[0])\n"
      ]
    }
  ]
}